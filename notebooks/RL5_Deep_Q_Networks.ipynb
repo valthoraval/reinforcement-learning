{
  "cells": [
    {
      "cell_type": "markdown",
      "metadata": {
        "id": "view-in-github",
        "colab_type": "text"
      },
      "source": [
        "<a href=\"https://colab.research.google.com/github/valthoraval/reinforcement-learning/blob/master/notebooks/RL5_Deep_Q_Networks.ipynb\" target=\"_parent\"><img src=\"https://colab.research.google.com/assets/colab-badge.svg\" alt=\"Open In Colab\"/></a>"
      ]
    },
    {
      "cell_type": "markdown",
      "metadata": {
        "id": "gQ7RL53T-gsl"
      },
      "source": [
        "**Class 4: Deep Q Networks.**\n",
        "\n",
        "1. [Everything you need to know](#everything)\n",
        "1. [Reminder](#reminder)\n",
        "1. <a href=\"#sec1\">Environments</a>\n",
        "    1. <a href=\"#sec1.1\">Cartpole</a>\n",
        "    2. <a href=\"#sec1.2\">Cartpole swing-up</a>\n",
        "    3. <a href=\"#sec1.3\">Pong</a>\n",
        "2. <a href=\"#sec2\">Value Iteration as a sequence of Supervized Learning problems</a>\n",
        "3. <a href=\"#sec3\">Experience Replay</a>\n",
        "4. <a href=\"#sec4\">A deep Q-network</a>\n",
        "5. <a href=\"#sec5\">Making DQN more efficient</a>\n",
        "    1. <a href=\"#sec5.1\">Changing the optimizer\n",
        "    2. <a href=\"#sec5.2\">Several gradient steps\n",
        "    3. <a href=\"#sec5.3\">Target network</a>\n",
        "    4. <a href=\"#sec5.4\">Error clipping</a>\n",
        "6. <a href=\"#sec6\">Metrics</a>\n",
        "7. <a href=\"#sec7\">DQN on image-based tasks</a>\n",
        "8. <a href=\"#sec8\">Going further</a>\n",
        "9. [Challenge](#challenge)\n",
        "    1. [Bicycle](#bicycle)\n",
        "    2. [Structured Treatment Interruptions](#sti)\n",
        "    3. [Your turn to play](#turn)"
      ]
    },
    {
      "cell_type": "markdown",
      "metadata": {
        "id": "aoXHP6Lc-gso"
      },
      "source": [
        "In the previous classes we saw that one could replace the model-based value iteration process by an approximate value iteration one. When the approximation is done by performing stochastic approximation, we obtain the $Q$ learning algorithm. We saw it was straightforward to extend this to use experience replay memories and batch stochastic gradient descent. In this class, we combine the stochastic gradient descent approach with replay memories and represent $Q$ as a neural network. This yields the Deep Q-Networks algorithm.\n",
        "\n",
        "There are few new concepts in this class compared to previous ones. Mainly, what we do is bring neural networks into the framework we have previously built. Therefore, this class is aimed at more practice. For this purpose, we start by introducing a set of [environments](#sec1) to illustrate further developments. Then we will start from Value Iteration and repeat the thought process of the previous classes, introduce [stochastic gradient descent](#sec2), [experience replay](#sec3) and reach the [DQN algorithm](#sec4). The end of the class is an [open challenge](#challenge) on several difficult benchmarks.\n",
        "\n",
        "<div class=\"alert alert-warning\">\n",
        "\n",
        "**Prerequisites:**\n",
        "- Stochastic Approximation for Approximate Value Iteration\n",
        "- Deep Learning\n",
        "<div>"
      ]
    },
    {
      "cell_type": "markdown",
      "metadata": {
        "id": "NxfZomhW-gsp"
      },
      "source": [
        "Let's start with this quote:\n",
        "\n",
        "> The idea that we learn by interacting with our environment is probably the first to occur to us when we think about the nature of learning. When an infant plays, waves its arms, or looks about, it has no explicit teacher, but it does have a direct sensorimotor connection to its environment. Exercising this connection produces a wealth of information about cause and effect, about the consequences of actions, and about what to do in order to achieve goals. Throughout our lives, such interactions are undoubtedly a major source of knowledge about our environment and ourselves. Whether we are learning to drive a car or to hold a conversation, we are acutely aware of how our environment responds to what we do, and we seek to influence what happens through our behavior. Learning from interaction is a foundational idea underlying nearly all theories of learning and intelligence. (Richard S. Sutton)"
      ]
    },
    {
      "cell_type": "markdown",
      "metadata": {
        "id": "EfkoZ1uX-gsq"
      },
      "source": [
        "# Everything you need to know\n",
        "\n",
        "Everything you should remember after this session.<br>\n",
        "<br>\n",
        "<div class=\"alert alert-success\">\n",
        "\n",
        "- Deep Q-Networks is an approximate value iteration algorithm that uses experience replay and stochastic gradient descent to learn $Q^*$ as a neural network. The DQN itself is the neural network.\n",
        "- DQN pseudo-code\n",
        "         state = init()\n",
        "         loop:\n",
        "            action = greedy_action(DQN) or random_action()\n",
        "            new_state, reward = step(state, action)\n",
        "            replay_memory.add(state, action, reward, new_state)\n",
        "            minibatch = replay_memory.sample(minibatch_size)\n",
        "            X_train = Y_train = []\n",
        "            for (s,a,r,s') in minibatch:\n",
        "                Q  = DQN.predict(s)\n",
        "                Q' = DQN.predict(s')\n",
        "                if non-terminal(s'): \n",
        "                    update = r + gamma * max(Q')    \n",
        "                else:  \n",
        "                    update = r\n",
        "                Q[a] = update\n",
        "                X_train.add(s)\n",
        "                Y_train.add(Q)\n",
        "            DQN.train_one_step(X_train,Y_train)\n",
        "            state = new_state\n",
        "- The pseudo-code above can be improved by introducing a second network $Q^-$ called *target network*, that is used to compute `update` in the pseudo-code above. Every $C$ steps $Q^-$ is replaced by the learned network.\n",
        "- Common improvements to DQN involve using a Huber loss and tuning the optimizer.\n",
        "</div>"
      ]
    },
    {
      "cell_type": "markdown",
      "metadata": {
        "id": "Ub3uNulk-gsr"
      },
      "source": [
        "# Reminder\n",
        "\n",
        "- Value Iteration builds the sequence $Q_{n+1} = T^* Q_n$ that converges to $Q^*$\n",
        "- Given a set of samples $\\{(s,a,r,s')\\}$, one can perform stochastic gradient descent on the loss $L_n(Q) = \\|Q - T^* Q_n \\|_2$ and thus approximate the sequence of value functions from value iteration."
      ]
    },
    {
      "cell_type": "markdown",
      "metadata": {
        "id": "Y81PnUE8-gsr"
      },
      "source": [
        "# <a id=\"sec1\"></a> Environments\n",
        "\n",
        "In this session, we will work with three different environments:\n",
        "- CartPole\n",
        "- A modified version of CartPole\n",
        "- Pong"
      ]
    },
    {
      "cell_type": "code",
      "execution_count": 1,
      "metadata": {
        "colab": {
          "base_uri": "https://localhost:8080/"
        },
        "id": "Jk8atKLy-gss",
        "outputId": "479c056a-55a5-491a-9edc-dae8a4178597"
      },
      "outputs": [
        {
          "output_type": "stream",
          "name": "stdout",
          "text": [
            "Looking in indexes: https://pypi.org/simple, https://us-python.pkg.dev/colab-wheels/public/simple/\n",
            "Collecting gym==0.22.0\n",
            "  Downloading gym-0.22.0.tar.gz (631 kB)\n",
            "\u001b[2K     \u001b[90m━━━━━━━━━━━━━━━━━━━━━━━━━━━━━━━━━━━━━━━\u001b[0m \u001b[32m631.1/631.1 KB\u001b[0m \u001b[31m9.6 MB/s\u001b[0m eta \u001b[36m0:00:00\u001b[0m\n",
            "\u001b[?25h  Installing build dependencies ... \u001b[?25l\u001b[?25hdone\n",
            "  Getting requirements to build wheel ... \u001b[?25l\u001b[?25hdone\n",
            "  Preparing metadata (pyproject.toml) ... \u001b[?25l\u001b[?25hdone\n",
            "Requirement already satisfied: cloudpickle>=1.2.0 in /usr/local/lib/python3.8/dist-packages (from gym==0.22.0) (2.2.0)\n",
            "Requirement already satisfied: numpy>=1.18.0 in /usr/local/lib/python3.8/dist-packages (from gym==0.22.0) (1.21.6)\n",
            "Requirement already satisfied: importlib-metadata>=4.10.0 in /usr/local/lib/python3.8/dist-packages (from gym==0.22.0) (6.0.0)\n",
            "Requirement already satisfied: gym-notices>=0.0.4 in /usr/local/lib/python3.8/dist-packages (from gym==0.22.0) (0.0.8)\n",
            "Collecting ale-py~=0.7.4\n",
            "  Downloading ale_py-0.7.5-cp38-cp38-manylinux_2_17_x86_64.manylinux2014_x86_64.whl (1.6 MB)\n",
            "\u001b[2K     \u001b[90m━━━━━━━━━━━━━━━━━━━━━━━━━━━━━━━━━━━━━━━━\u001b[0m \u001b[32m1.6/1.6 MB\u001b[0m \u001b[31m51.4 MB/s\u001b[0m eta \u001b[36m0:00:00\u001b[0m\n",
            "\u001b[?25hCollecting autorom[accept-rom-license]~=0.4.2\n",
            "  Downloading AutoROM-0.4.2-py3-none-any.whl (16 kB)\n",
            "Requirement already satisfied: importlib-resources in /usr/local/lib/python3.8/dist-packages (from ale-py~=0.7.4->gym==0.22.0) (5.10.2)\n",
            "Requirement already satisfied: tqdm in /usr/local/lib/python3.8/dist-packages (from autorom[accept-rom-license]~=0.4.2->gym==0.22.0) (4.64.1)\n",
            "Requirement already satisfied: click in /usr/local/lib/python3.8/dist-packages (from autorom[accept-rom-license]~=0.4.2->gym==0.22.0) (7.1.2)\n",
            "Requirement already satisfied: requests in /usr/local/lib/python3.8/dist-packages (from autorom[accept-rom-license]~=0.4.2->gym==0.22.0) (2.25.1)\n",
            "Collecting AutoROM.accept-rom-license\n",
            "  Downloading AutoROM.accept-rom-license-0.5.0.tar.gz (10 kB)\n",
            "  Installing build dependencies ... \u001b[?25l\u001b[?25hdone\n",
            "  Getting requirements to build wheel ... \u001b[?25l\u001b[?25hdone\n",
            "  Preparing metadata (pyproject.toml) ... \u001b[?25l\u001b[?25hdone\n",
            "Requirement already satisfied: zipp>=0.5 in /usr/local/lib/python3.8/dist-packages (from importlib-metadata>=4.10.0->gym==0.22.0) (3.11.0)\n",
            "Collecting libtorrent\n",
            "  Using cached libtorrent-2.0.7-cp38-cp38-manylinux_2_12_x86_64.manylinux2010_x86_64.whl (8.6 MB)\n",
            "Requirement already satisfied: idna<3,>=2.5 in /usr/local/lib/python3.8/dist-packages (from requests->autorom[accept-rom-license]~=0.4.2->gym==0.22.0) (2.10)\n",
            "Requirement already satisfied: certifi>=2017.4.17 in /usr/local/lib/python3.8/dist-packages (from requests->autorom[accept-rom-license]~=0.4.2->gym==0.22.0) (2022.12.7)\n",
            "Requirement already satisfied: chardet<5,>=3.0.2 in /usr/local/lib/python3.8/dist-packages (from requests->autorom[accept-rom-license]~=0.4.2->gym==0.22.0) (4.0.0)\n",
            "Requirement already satisfied: urllib3<1.27,>=1.21.1 in /usr/local/lib/python3.8/dist-packages (from requests->autorom[accept-rom-license]~=0.4.2->gym==0.22.0) (1.24.3)\n",
            "Building wheels for collected packages: gym, AutoROM.accept-rom-license\n",
            "  Building wheel for gym (pyproject.toml) ... \u001b[?25l\u001b[?25hdone\n",
            "  Created wheel for gym: filename=gym-0.22.0-py3-none-any.whl size=708395 sha256=6b2fbab2be859060b0b97c711de3ee7c5e0f7d88d21b12cb3ee1a025e54cd133\n",
            "  Stored in directory: /root/.cache/pip/wheels/4d/6e/7d/0e050cb65b427dd0db5c5ab2c9a1f1ffa3d58db2f4db516268\n",
            "  Building wheel for AutoROM.accept-rom-license (pyproject.toml) ... \u001b[?25l\u001b[?25hdone\n",
            "  Created wheel for AutoROM.accept-rom-license: filename=AutoROM.accept_rom_license-0.5.0-py3-none-any.whl size=440868 sha256=91953290691e877b73e71358606c36c46f5f9b82d1f1ab325b5c04440a832056\n",
            "  Stored in directory: /root/.cache/pip/wheels/bf/c9/25/578470ae932b494c313dc22e6c57afff192140fb3cd5acf185\n",
            "Successfully built gym AutoROM.accept-rom-license\n",
            "Installing collected packages: libtorrent, gym, AutoROM.accept-rom-license, autorom, ale-py\n",
            "  Attempting uninstall: gym\n",
            "    Found existing installation: gym 0.25.2\n",
            "    Uninstalling gym-0.25.2:\n",
            "      Successfully uninstalled gym-0.25.2\n",
            "Successfully installed AutoROM.accept-rom-license-0.5.0 ale-py-0.7.5 autorom-0.4.2 gym-0.22.0 libtorrent-2.0.7\n"
          ]
        }
      ],
      "source": [
        "!pip install gym==0.22.0 gym[atari]==0.22.0 gym[accept-rom-license]==0.22.0"
      ]
    },
    {
      "cell_type": "code",
      "execution_count": 2,
      "metadata": {
        "id": "8UWLhu-6-gst"
      },
      "outputs": [],
      "source": [
        "import os\n",
        "os.environ[\"PYTHONWARNINGS\"]=\"default::ImportWarning:ale_py.roms\""
      ]
    },
    {
      "cell_type": "code",
      "execution_count": 3,
      "metadata": {
        "id": "1KMvEWQF-gsu"
      },
      "outputs": [],
      "source": [
        "#from gym import logger\n",
        "import numpy as np\n",
        "%matplotlib inline\n",
        "import matplotlib.pyplot as plt\n",
        "#logger.set_level(gym.logger.DISABLED)"
      ]
    },
    {
      "cell_type": "markdown",
      "metadata": {
        "id": "u4Mgi4Tp-gsu"
      },
      "source": [
        "## <a id=sec1.1></a>CartPole"
      ]
    },
    {
      "cell_type": "code",
      "source": [
        "!pip install gymnasium[atari] gymnasium[accept-rom-licence]"
      ],
      "metadata": {
        "colab": {
          "base_uri": "https://localhost:8080/",
          "height": 575
        },
        "id": "jNujHhzM-5Os",
        "outputId": "2d167cc7-b19c-4543-8905-b6412e050b6b"
      },
      "execution_count": 5,
      "outputs": [
        {
          "output_type": "stream",
          "name": "stdout",
          "text": [
            "Looking in indexes: https://pypi.org/simple, https://us-python.pkg.dev/colab-wheels/public/simple/\n",
            "Collecting gymnasium[atari]\n",
            "  Downloading gymnasium-0.27.0-py3-none-any.whl (879 kB)\n",
            "\u001b[2K     \u001b[90m━━━━━━━━━━━━━━━━━━━━━━━━━━━━━━━━━━━━━━\u001b[0m \u001b[32m879.1/879.1 KB\u001b[0m \u001b[31m11.8 MB/s\u001b[0m eta \u001b[36m0:00:00\u001b[0m\n",
            "\u001b[?25hRequirement already satisfied: numpy>=1.21.0 in /usr/local/lib/python3.8/dist-packages (from gymnasium[atari]) (1.21.6)\n",
            "Requirement already satisfied: typing-extensions>=4.3.0 in /usr/local/lib/python3.8/dist-packages (from gymnasium[atari]) (4.4.0)\n",
            "Requirement already satisfied: cloudpickle>=1.2.0 in /usr/local/lib/python3.8/dist-packages (from gymnasium[atari]) (2.2.0)\n",
            "Collecting jax-jumpy>=0.2.0\n",
            "  Downloading jax_jumpy-0.2.0-py3-none-any.whl (11 kB)\n",
            "Collecting gymnasium-notices>=0.0.1\n",
            "  Downloading gymnasium_notices-0.0.1-py3-none-any.whl (2.8 kB)\n",
            "Requirement already satisfied: importlib-metadata>=4.8.0 in /usr/local/lib/python3.8/dist-packages (from gymnasium[atari]) (6.0.0)\n",
            "Collecting shimmy<1.0,>=0.1.0\n",
            "  Downloading Shimmy-0.2.0-py3-none-any.whl (25 kB)\n",
            "\u001b[33mWARNING: gymnasium 0.27.0 does not provide the extra 'accept-rom-licence'\u001b[0m\u001b[33m\n",
            "\u001b[0mRequirement already satisfied: zipp>=0.5 in /usr/local/lib/python3.8/dist-packages (from importlib-metadata>=4.8.0->gymnasium[atari]) (3.11.0)\n",
            "Collecting ale-py~=0.8.0\n",
            "  Downloading ale_py-0.8.0-cp38-cp38-manylinux_2_17_x86_64.manylinux2014_x86_64.whl (1.7 MB)\n",
            "\u001b[2K     \u001b[90m━━━━━━━━━━━━━━━━━━━━━━━━━━━━━━━━━━━━━━━━\u001b[0m \u001b[32m1.7/1.7 MB\u001b[0m \u001b[31m43.3 MB/s\u001b[0m eta \u001b[36m0:00:00\u001b[0m\n",
            "\u001b[?25hRequirement already satisfied: importlib-resources in /usr/local/lib/python3.8/dist-packages (from ale-py~=0.8.0->shimmy<1.0,>=0.1.0->gymnasium[atari]) (5.10.2)\n",
            "Installing collected packages: gymnasium-notices, jax-jumpy, ale-py, shimmy, gymnasium\n",
            "  Attempting uninstall: ale-py\n",
            "    Found existing installation: ale-py 0.7.5\n",
            "    Uninstalling ale-py-0.7.5:\n",
            "      Successfully uninstalled ale-py-0.7.5\n",
            "Successfully installed ale-py-0.8.0 gymnasium-0.27.0 gymnasium-notices-0.0.1 jax-jumpy-0.2.0 shimmy-0.2.0\n"
          ]
        },
        {
          "output_type": "display_data",
          "data": {
            "application/vnd.colab-display-data+json": {
              "pip_warning": {
                "packages": [
                  "ale_py"
                ]
              }
            }
          },
          "metadata": {}
        }
      ]
    },
    {
      "cell_type": "code",
      "execution_count": 1,
      "metadata": {
        "colab": {
          "base_uri": "https://localhost:8080/"
        },
        "id": "QVIkD-C2-gsu",
        "outputId": "5516ccf6-24e4-4a6b-b5e7-b71fd22e19a0"
      },
      "outputs": [
        {
          "output_type": "stream",
          "name": "stderr",
          "text": [
            "\n"
          ]
        }
      ],
      "source": [
        "import gymnasium as gym\n",
        "cartpole = gym.make('CartPole-v1')"
      ]
    },
    {
      "cell_type": "markdown",
      "metadata": {
        "id": "qsmXhZnY-gsv"
      },
      "source": [
        "From the [OpenAI Gym website](https://gym.openai.com/envs/CartPole-v0/)\n",
        "\n",
        "> A pole is attached by an un-actuated joint to a cart, which moves along a frictionless track. The system is controlled by applying a force of +1 or -1 to the cart. The pendulum starts upright, and the goal is to prevent it from falling over. A reward of +1 is provided for every timestep that the pole remains upright. The episode ends when the pole is more than 15 degrees from vertical, or the cart moves more than 2.4 units from the center."
      ]
    },
    {
      "cell_type": "markdown",
      "metadata": {
        "id": "eJI9TPd--gsv"
      },
      "source": [
        "Beware that, as most Gym environments, CartPole has a maximum number of steps before necessarily returning `done=True`."
      ]
    },
    {
      "cell_type": "code",
      "execution_count": 2,
      "metadata": {
        "colab": {
          "base_uri": "https://localhost:8080/"
        },
        "id": "3IAEYYUl-gsv",
        "outputId": "31751022-6e6c-4052-c54e-8500f63b32e1"
      },
      "outputs": [
        {
          "output_type": "execute_result",
          "data": {
            "text/plain": [
              "500"
            ]
          },
          "metadata": {},
          "execution_count": 2
        }
      ],
      "source": [
        "cartpole._max_episode_steps"
      ]
    },
    {
      "cell_type": "markdown",
      "metadata": {
        "id": "G1DDoQdu-gsw"
      },
      "source": [
        "The cartpole is represented by a state $s = (x, \\dot{x}, \\theta, \\dot{\\theta})$ with :\n",
        "  - $x$ the position of the cartpole along the x-axis\n",
        "  - $\\theta$ the angle of the pole"
      ]
    },
    {
      "cell_type": "code",
      "execution_count": 3,
      "metadata": {
        "colab": {
          "base_uri": "https://localhost:8080/"
        },
        "id": "GJgQ9rh9-gsw",
        "outputId": "3f253977-12c8-4067-c87e-a4c457c00f98"
      },
      "outputs": [
        {
          "output_type": "stream",
          "name": "stdout",
          "text": [
            "Discrete(2)\n",
            "Box([-4.8000002e+00 -3.4028235e+38 -4.1887903e-01 -3.4028235e+38], [4.8000002e+00 3.4028235e+38 4.1887903e-01 3.4028235e+38], (4,), float32)\n",
            "{'render_modes': ['human', 'rgb_array'], 'render_fps': 50}\n"
          ]
        }
      ],
      "source": [
        "print(cartpole.action_space)\n",
        "print(cartpole.observation_space)\n",
        "print(cartpole.env.metadata)"
      ]
    },
    {
      "cell_type": "code",
      "execution_count": 5,
      "metadata": {
        "colab": {
          "base_uri": "https://localhost:8080/"
        },
        "id": "EQIKRQff-gsw",
        "outputId": "f2d12851-d21f-479d-ab6b-ab6449174178"
      },
      "outputs": [
        {
          "output_type": "stream",
          "name": "stderr",
          "text": [
            "/usr/local/lib/python3.8/dist-packages/gymnasium/envs/classic_control/cartpole.py:212: UserWarning: \u001b[33mWARN: You are calling render method without specifying any render mode. You can specify the render_mode at initialization, e.g. gym.make(\"CartPole-v1\", render_mode=\"rgb_array\")\u001b[0m\n",
            "  gym.logger.warn(\n"
          ]
        },
        {
          "output_type": "stream",
          "name": "stdout",
          "text": [
            "28\n"
          ]
        }
      ],
      "source": [
        "import time\n",
        "import numpy as np\n",
        "\n",
        "x = cartpole.reset()\n",
        "cartpole.render()\n",
        "for i in range(2000):\n",
        "    _, _, d, _, _ = cartpole.step(np.random.randint(2))\n",
        "    cartpole.render()\n",
        "    if d:\n",
        "        print(i)\n",
        "        break\n",
        "    time.sleep(cartpole.tau) # not actually real-time, just for readability\n",
        "\n",
        "cartpole.close()"
      ]
    },
    {
      "cell_type": "markdown",
      "metadata": {
        "id": "mCNh25Y5-gsw"
      },
      "source": [
        "## <a id=sec1.2></a>CartPole Swing-up\n",
        "\n",
        "The idea here is to keep the same environment, but instead of learning how to stabilize it around the unstable equilibrium point, we'd like to learn to swing it up. Here are the changes:\n",
        "- `reset` now puts the pole pointing down. The initial state is $(0,0,\\pi,0)$ plus a vector of four uniformly random values in [-0.05,0.05].\n",
        "- `step` now returns `done=True` when the cart leaves the $x\\in [-2.4,2.4]$ interval or when the pole swings faster than $4\\pi$ radians per second.\n",
        "- the reward is still +1 for keeping the pole within 12 degrees of the vertical, it is 0 for all other time steps and -10 for swinging too fast or exiting the screen."
      ]
    },
    {
      "cell_type": "code",
      "execution_count": 11,
      "metadata": {
        "colab": {
          "base_uri": "https://localhost:8080/",
          "height": 184
        },
        "id": "nwcLqbJ_-gsw",
        "outputId": "3d9e9c72-a0e2-4eb9-aaeb-f88c4a341e95"
      },
      "outputs": [
        {
          "output_type": "error",
          "ename": "AttributeError",
          "evalue": "ignored",
          "traceback": [
            "\u001b[0;31m---------------------------------------------------------------------------\u001b[0m",
            "\u001b[0;31mAttributeError\u001b[0m                            Traceback (most recent call last)",
            "\u001b[0;32m<ipython-input-11-a23afcad9b00>\u001b[0m in \u001b[0;36m<module>\u001b[0;34m\u001b[0m\n\u001b[1;32m      1\u001b[0m \u001b[0;31m#from environments.swingup import CartPoleSwingUp\u001b[0m\u001b[0;34m\u001b[0m\u001b[0;34m\u001b[0m\u001b[0;34m\u001b[0m\u001b[0m\n\u001b[0;32m----> 2\u001b[0;31m \u001b[0mswingup\u001b[0m \u001b[0;34m=\u001b[0m \u001b[0mgym\u001b[0m\u001b[0;34m.\u001b[0m\u001b[0mCartPoleSwingUp\u001b[0m\u001b[0;34m(\u001b[0m\u001b[0;34m)\u001b[0m\u001b[0;34m\u001b[0m\u001b[0;34m\u001b[0m\u001b[0m\n\u001b[0m",
            "\u001b[0;31mAttributeError\u001b[0m: module 'gymnasium' has no attribute 'CartPoleSwingUp'"
          ]
        }
      ],
      "source": [
        "#from environments.swingup import CartPoleSwingUp\n",
        "swingup = gym.CartPoleSwingUp()"
      ]
    },
    {
      "cell_type": "code",
      "execution_count": null,
      "metadata": {
        "scrolled": false,
        "id": "j3vsQ6Yc-gsw",
        "outputId": "c4997f48-4845-4f41-9a94-4c895da1e781"
      },
      "outputs": [
        {
          "name": "stderr",
          "output_type": "stream",
          "text": [
            "/home/emmanuel/anaconda3/lib/python3.9/site-packages/gym/envs/classic_control/cartpole.py:160: UserWarning: \u001b[33mWARN: You are calling 'step()' even though this environment has already returned done = True. You should always call 'reset()' once you receive 'done = True' -- any further steps are undefined behavior.\u001b[0m\n",
            "  logger.warn(\n"
          ]
        },
        {
          "name": "stdout",
          "output_type": "stream",
          "text": [
            "355\n"
          ]
        }
      ],
      "source": [
        "import numpy as np\n",
        "\n",
        "x = swingup.reset()\n",
        "swingup.render()\n",
        "\n",
        "for i in range(1000):\n",
        "    _, _, d, _ = swingup.step(np.random.randint(2))\n",
        "    swingup.render()\n",
        "    if d:\n",
        "        print(i)\n",
        "        break\n",
        "\n",
        "swingup.close()"
      ]
    },
    {
      "cell_type": "markdown",
      "metadata": {
        "id": "wv5hj2S0-gsx"
      },
      "source": [
        "## <a id=sec1.3></a>Pong\n",
        "\n",
        "Let's build an agent that learns to play Pong, one of the [Atari games](https://github.com/openai/gym/blob/master/gym/envs/atari/atari_env.py) in Gym (originally in the [Arcade Learning Environment](https://github.com/mgbellemare/Arcade-Learning-Environment)). You might want to try different games later on (like the popular Breakout game for instance)."
      ]
    },
    {
      "cell_type": "code",
      "execution_count": 12,
      "metadata": {
        "id": "2vK1W-4f-gsx"
      },
      "outputs": [],
      "source": [
        "#import gym\n",
        "pong = gym.make('Pong-v4')"
      ]
    },
    {
      "cell_type": "markdown",
      "metadata": {
        "id": "_dYIitPD-gsx"
      },
      "source": [
        "Here is the environment's description.\n",
        "> Maximize your score in the Atari 2600 game Pong. In this environment, the observation is an RGB image of the screen, which is an array of shape (210, 160, 3). Each action is repeatedly performed for a duration of k frames, where k is uniformly sampled from $\\{2, 3, 4\\}$."
      ]
    },
    {
      "cell_type": "code",
      "execution_count": 13,
      "metadata": {
        "colab": {
          "base_uri": "https://localhost:8080/"
        },
        "id": "2FpaRFh2-gsx",
        "outputId": "06528d41-6321-493f-b22a-76c51d830df4"
      },
      "outputs": [
        {
          "output_type": "stream",
          "name": "stdout",
          "text": [
            "Box(0, 255, (210, 160, 3), uint8)\n",
            "(210, 160, 3)\n",
            "0\n",
            "255\n",
            "Discrete(6)\n"
          ]
        }
      ],
      "source": [
        "import numpy as np\n",
        "print(pong.observation_space)\n",
        "print(pong.observation_space.shape)\n",
        "print(np.min(pong.observation_space.low))\n",
        "print(np.max(pong.observation_space.high))\n",
        "print(pong.action_space)\n",
        "#help(env.observation_space)"
      ]
    },
    {
      "cell_type": "code",
      "execution_count": 15,
      "metadata": {
        "colab": {
          "base_uri": "https://localhost:8080/",
          "height": 269
        },
        "id": "wfvDA_Ov-gsy",
        "outputId": "cd326ee9-965c-4bc4-991b-95a1b3d1c1b8"
      },
      "outputs": [
        {
          "output_type": "display_data",
          "data": {
            "text/plain": [
              "<Figure size 432x288 with 1 Axes>"
            ],
            "image/png": "[encoded data removed]"
          },
          "metadata": {
            "needs_background": "light"
          }
        }
      ],
      "source": [
        "%matplotlib inline\n",
        "import matplotlib.pyplot as plt\n",
        "x,_ = pong.reset()\n",
        "plt.imshow(x)\n",
        "plt.show()"
      ]
    },
    {
      "cell_type": "markdown",
      "metadata": {
        "id": "dGHpY3OL-gsy"
      },
      "source": [
        "<div class=\"alert alert-warning\">\n",
        "\n",
        "**Exercise:** What is the number of possible states? Why is this not an MDP? What would one need to turn this back into an MDP?\n",
        "</div>"
      ]
    },
    {
      "cell_type": "markdown",
      "metadata": {
        "id": "99FaPwOw-gsy"
      },
      "source": [
        "<div class=\"alert alert-danger\">\n",
        "    <a href=\"#Pong-theory\" data-toggle=\"collapse\"><b>Answers:</b></a><br>\n",
        "<div id=\"Pong-theory\" class=\"collapse\">\n",
        "\n",
        "One frame is a $210\\times 160$ RGB image with a 256 color palette, so the set of all possible frames has size $256^{210 \\times 160 \\times 3} \\sim 10^{242579}$. That's a little too many for an efficient enumeration. Of course, most of the possible images will never occur in a Breakout game and the true state space is actually a much smaller subset of the full set of possible images. Nevertheless, unless we provide a large engineering effort in describing the state space with few variables (which would be contradictory of our goal of a \"human-level\" AI) we will need to automatically discover some structure in the state sampled data.\n",
        "\n",
        "This is not an MDP because the transition dynamics do not respect Markov's property. The probability of transitioning from $s_t$ to $s_{t+1}$ is *not* independent of previous states. The problem here is that a single frame of the game does not reflect the velocity of the ball.\n",
        "\n",
        "To recover Markov's property one could simply stack a few frames together in the state space.\n",
        "</div>\n",
        "</div>"
      ]
    },
    {
      "cell_type": "markdown",
      "metadata": {
        "id": "WOA13O1r-gsy"
      },
      "source": [
        "There are 18 buttons on the Atari controller. However not all games use all buttons. Our interface to Pong specifies 6 possible actions:\n",
        "- 0 NOOP (no operation)\n",
        "- 1 FIRE (press fire button, doesn't do anything in Pong)\n",
        "- 2 RIGHT (actually moves the paddle up in Pong)\n",
        "- 3 LEFT (actually moves the paddle left in Pong)\n",
        "- 4 UP (moves the paddle upwards)\n",
        "- 5 DOWN (moves the paddle downwards)\n",
        "\n",
        "The available actions in Pong go up to the 6th action for naming consistency (UP and DOWN), but the four first actions are not really useful.\n",
        "\n",
        "Also, for an unknown reason, the game does not start until the 20th frame (but always starts automatically, pressing FIRE does not change anything).\n",
        "\n",
        "The frame rate is 60Hz.\n",
        "\n",
        "To avoid confusion between the 6 actions allowed by Gym, let's build a wrapper around our environment, with only 2 possible actions (\"0\" for UP and \"1\" for DOWN) and a downscaled observation space. Unless you're curious and want to dig in the code, you can simply run the following cells and just use the resulting environment."
      ]
    },
    {
      "cell_type": "code",
      "execution_count": null,
      "metadata": {
        "id": "aEBgIcB9-gsz"
      },
      "outputs": [],
      "source": [
        "from environments.pongwrapper import PongWrapper"
      ]
    },
    {
      "cell_type": "code",
      "execution_count": null,
      "metadata": {
        "id": "KIPW0sVn-gsz"
      },
      "outputs": [],
      "source": [
        "pong = PongWrapper(noop_max=0,\n",
        "                   frame_skip=4,\n",
        "                   terminal_on_life_loss=True,\n",
        "                   grayscale_obs=True,\n",
        "                   scale_obs=True)"
      ]
    },
    {
      "cell_type": "code",
      "execution_count": null,
      "metadata": {
        "scrolled": true,
        "id": "hD8XLr2W-gsz"
      },
      "outputs": [],
      "source": [
        "# Trying a random agent in Pong\n",
        "import time\n",
        "import numpy as np\n",
        "%matplotlib inline\n",
        "import matplotlib.pyplot as plt\n",
        "\n",
        "pong.reset()\n",
        "pong.render()\n",
        "for i in range(60):\n",
        "    a = np.random.randint(2)\n",
        "    x, r, _, _ = pong.step(a)\n",
        "    pong.render()\n",
        "    #print('\\r', \"reward\", r, end=\"\")\n",
        "    time.sleep(0.1)\n",
        "    \n",
        "pong.close()\n",
        "print(\"shape: \", x.shape, \", min = \", x.min(), \", max = \", x.max(), \", dtype = \", x.dtype, sep='')\n",
        "plt.imshow(x, cmap='gray');"
      ]
    },
    {
      "cell_type": "markdown",
      "metadata": {
        "id": "0HCME0JX-gsz"
      },
      "source": [
        "# <a id=sec2></a>Value Iteration as a sequence of Supervized Learning problems\n",
        "\n",
        "Recall the Value Iteration update: $Q_{n+1} = T^*Q_n$.\n",
        "\n",
        "<div class=\"alert alert-warning\">\n",
        "\n",
        "**Exercise:**  \n",
        "Suppose $Q_{n+1}$ is a parametric function $Q(s,a;\\theta_{n+1})$ with parameters $\\theta_{n+1}$. We want to approximate $T^*Q_n$ with $Q(s,a;\\theta_{n+1})$. Write the loss function minimized for this regression problem.\n",
        "</div>"
      ]
    },
    {
      "cell_type": "markdown",
      "metadata": {
        "id": "6CGkiMa6-gs0"
      },
      "source": [
        "<div class=\"alert alert-danger\">\n",
        "    <a href=\"#ValueIteration\" data-toggle=\"collapse\"><b>Answers:</b></a><br>\n",
        "<div id=\"ValueIteration\" class=\"collapse\">\n",
        "\n",
        "Let's start over from the beginning. We want to find:\n",
        "$$\\pi^*(s) = \\arg\\max_{\\pi} \\mathbb{E}_{\\left(r_t\\right)_{t\\in \\mathbb{N}}} \\left[ \\sum_{t=0}^\\infty \\gamma^t r_t \\ \\Big| \\ s, \\pi \\right], \\ \\forall s\\in S.$$\n",
        "\n",
        "We have seen this was equivalent to finding the optimal value function $Q^*$:\n",
        "$$Q^*(s,a) = \\max_{\\pi} \\mathbb{E}_{\\left(r_t\\right)_{t\\in \\mathbb{N}}} \\left[ \\sum_{t=0}^\\infty \\gamma^t r_t \\ \\Big| \\  s,a, \\pi \\right], \\ \\forall (s,a) \\in S\\times A.$$\n",
        "\n",
        "And we have established that $Q^*$ was the only solution to Bellman's optimality equation:\n",
        "$$Q(s,a) = \\mathbb{E}_{s' \\sim p(\\cdot|s,a)} \\left[r(s,a,s') + \\gamma \\max_{a'} Q(s',a')\\right].$$\n",
        "\n",
        "By writing $T^*$ Bellman's optimality operator, we have, by definition:\n",
        "$$(T^*Q)(s,a) = \\mathbb{E}_{s' \\sim p(\\cdot|s,a)} \\left[r(s,a,s') + \\gamma \\max_{a'} Q(s',a')\\right].$$\n",
        "\n",
        "And thus, $Q^*$ is the only solution to $Q=T^*Q$.\n",
        "\n",
        "It appears $T^*$ is a contraction mapping on the $\\mathcal{F}(S\\times A,\\mathbb{R})$ space. Value Iteration exploits this property to build the sequence $Q_{n+1} = T^*Q_n$ which converges to $Q^*$.\n",
        "\n",
        "Let's now suppose that $Q_n$ is a function approximator, whose parameters are $\\theta_n$. We shall write $Q_n(s,a) = Q(s,a;\\theta_n)$. Then building $\\theta_{n+1}$ knowing $\\theta_n$ is the regression problem that minimizes the loss:\n",
        "\\begin{gather}\n",
        "L_n(\\theta) = \\left\\| y_n(s,a) - Q(s,a;\\theta) \\right\\|,\\\\\n",
        "\\textrm{with } y_n(s,a) = \\mathbb{E}_{s' \\sim p(\\cdot|s,a)} \\left[r(s,a,s') + \\gamma \\max_{a'} Q(s',a';\\theta_{n})\\right].\n",
        "\\end{gather}\n",
        "\n",
        "If this loss can be optimized and goes to zero, then we have found the true $Q_{n+1}$. If not, then we have found an approximation of it in the norm used to define $L_n$.\n",
        "\n",
        "</div>\n",
        "</div>"
      ]
    },
    {
      "cell_type": "markdown",
      "metadata": {
        "id": "8sPY4Me7-gs0"
      },
      "source": [
        "<div class=\"alert alert-warning\">\n",
        "\n",
        "**Exercise:**  \n",
        "Use the L2 norm in the loss of the regression problem above, then write the gradient of the loss with respect to the regressor's parameters. Use this to introduce a stochastic gradient descent method to find $\\theta_{n+1}$.\n",
        "</div>"
      ]
    },
    {
      "cell_type": "markdown",
      "metadata": {
        "id": "HnibK6SE-gs0"
      },
      "source": [
        "<div class=\"alert alert-danger\">\n",
        "    <a href=\"#VILoss\" data-toggle=\"collapse\"><b>Answers:</b></a><br>\n",
        "<div id=\"VILoss\" class=\"collapse\">\n",
        "\n",
        "Our loss becomes:\n",
        "\\begin{gather}\n",
        "L_n(\\theta) = \\frac{1}{2} \\mathbb{E}_{(s,a) \\sim \\rho(\\cdot)}\\left[ \\big( y_n(s,a) - Q(s,a;\\theta) \\big)^2 \\right],\\\\\n",
        "\\textrm{with } y_n(s,a) = \\mathbb{E}_{s' \\sim p(\\cdot|s,a)} \\left[r(s,a,s') + \\gamma \\max_{a'} Q(s',a';\\theta_{n})\\right].\n",
        "\\end{gather}\n",
        "\n",
        "In the expression above, $\\rho$ is a distribution over the state-action space. Often, it is considered to be the behavior distribution, that is the distribution of samples under the current behavior policy, like $\\epsilon$-greedy. Note that this choice is debatable.\n",
        "\n",
        "So the gradient of this loss is:\n",
        "\\begin{gather}\n",
        "\\nabla_\\theta L_n(\\theta) = \\mathbb{E}_{(s,a) \\sim \\rho(\\cdot)}\\left[ \\big( y_n(s,a) - Q(s,a;\\theta) \\big) \\nabla_\\theta Q(s,a;\\theta) \\right]\\\\\n",
        "\\textrm{with } y_n(s,a) = \\mathbb{E}_{s' \\sim p(\\cdot|s,a)} \\left[r(s,a,s') + \\gamma \\max_{a'} Q(s',a';\\theta_{n})\\right].\n",
        "\\end{gather}\n",
        "\n",
        "And when we wrap all this together:\n",
        "$$\\nabla_\\theta L_n(\\theta) = \\mathbb{E}_{(s,a) \\sim \\rho(\\cdot)}\\left[ \\left( \\mathbb{E}_{s' \\sim p(\\cdot|s,a)} \\left[r(s,a,s') + \\gamma \\max_{a'} Q(s',a';\\theta_{n})\\right] - Q(s,a;\\theta) \\right) \\nabla_\\theta Q(s,a;\\theta) \\right]$$\n",
        "\n",
        "$$\\nabla_\\theta L_n(\\theta) = \\mathbb{E}_{\\substack{(s,a) \\sim \\rho(\\cdot)\\\\ s' \\sim p(\\cdot|s,a)}}\\left[ \\left( r(s,a,s') + \\gamma \\max_{a'} Q(s',a';\\theta_{n}) - Q(s,a;\\theta) \\right) \\nabla_\\theta Q(s,a;\\theta) \\right]$$\n",
        "\n",
        "We can build a Monte Carlo estimate of this gradient, given a mini-batch of independently and identically drawn samples $\\left\\{\\left(s_i,a_i,r_i,s'_i\\right)\\right\\}_{i\\in [1,B]}$, with $(s,a) \\sim \\rho(\\cdot)$ and $s' \\sim p(\\cdot | s,a)$:\n",
        "$$\\nabla_\\theta L_n(\\theta) \\approx d_n(\\theta) = \\sum_{i=1}^B \\left[ \\left( r_i + \\gamma \\max_{a'} Q(s_i',a';\\theta_{n}) - Q(s_i,a_i;\\theta) \\right) \\nabla_\\theta Q(s_i,a_i;\\theta) \\right].$$\n",
        "\n",
        "The stochastic gradient descent procedure builds a sequence of parameter values $\\theta_k$ such that:\n",
        "$$\\theta_{k+1} \\leftarrow \\theta_{k} - \\alpha d_n(\\theta_{k})$$\n",
        "\n",
        "By repeating such gradient steps, one progressively minimizes $L_n(\\theta)$ and finds $\\theta_{n+1}$.\n",
        "\n",
        "</div>\n",
        "</div>"
      ]
    },
    {
      "cell_type": "markdown",
      "metadata": {
        "id": "H2B3-IX1-gs0"
      },
      "source": [
        "**Important remark:**  \n",
        "\n",
        "In the update above, if the mini-batch contains a single element, the 1-sample update is precisely that of Q-learning! Then, in Q-learning, the new loss $L_{n+1}$ is defined and the process is repeated. Consequently, there is a new loss function at each time step.\n",
        "\n",
        "<div class=\"alert alert-warning\">\n",
        "\n",
        "**Exercise:** can you spot the (subtle but essential) difference with Q-learning?\n",
        "</div>"
      ]
    },
    {
      "cell_type": "markdown",
      "metadata": {
        "id": "KtqJ_yLG-gs1"
      },
      "source": [
        "<div class=\"alert alert-danger\">\n",
        "    <a href=\"#DifferenceQL\" data-toggle=\"collapse\"><b>Answers:</b></a><br>\n",
        "<div id=\"DifferenceQL\" class=\"collapse\">\n",
        "\n",
        "Recall Q-learning. The update was indeed the same, except that at any time step the mini-batch's single element was not sampled independently from the previous minibatch! Indeed, $s'$ from the previous time step becomes $s$ for the current time step. So the successive mini-batches' elements are not drawn iid.\n",
        "\n",
        "That's a key difference that questions the foundation of Q-learning in itself.\n",
        "</div>\n",
        "</div>"
      ]
    },
    {
      "cell_type": "markdown",
      "metadata": {
        "id": "NCo5aMv--gs1"
      },
      "source": [
        "# <a id=sec3></a>Experience Replay\n",
        "\n",
        "To recover the independence assumption between samples, we can introduce the mechanism of [*Experience Replay*](http://www.incompleteideas.net/lin-92.pdf) by storing past samples into a *Replay Memory*. When samples a required for a mini-batch gradient update, the samples are collected uniformly from the replay memory, thus mimicking an (almost) independent draw according to $\\rho(\\cdot)$."
      ]
    },
    {
      "cell_type": "markdown",
      "metadata": {
        "id": "She52X-s-gs1"
      },
      "source": [
        "<div class=\"alert alert-warning\">\n",
        "    \n",
        "**Exercise:**  \n",
        "Design a class for the replay memory of the cart-pole example(s). Limit the size of this memory (via a FIFO mechanism) to $10^6$ samples (adapt this number to your computer's RAM). Test it by running a random policy for $2\\cdot 10^6$ time steps.\n",
        "</div>"
      ]
    },
    {
      "cell_type": "markdown",
      "source": [
        "Usage d'une array python = structure de données à complexité constante pour l'accès à chaque donnée. Modulo une capacité max --> réécriture des premiers éléments une fois dépassée"
      ],
      "metadata": {
        "id": "ddioygYJVwZM"
      }
    },
    {
      "cell_type": "code",
      "execution_count": null,
      "metadata": {
        "id": "uW94-N4r-gs1"
      },
      "outputs": [],
      "source": [
        "# %load solutions/RL5_exercise1.py\n",
        "### WRITE YOUR CODE HERE\n",
        "# If you get stuck, uncomment the line above to load a correction in this cell (then you can execute this code)."
      ]
    },
    {
      "cell_type": "markdown",
      "metadata": {
        "id": "e3gcxmW7-gs1"
      },
      "source": [
        "<div class=\"alert alert-warning\">\n",
        "    \n",
        "**Know your data structures!**\n",
        "\n",
        "Taking the time to think about what makes a good replay buffer may save you hours of puzzled head-banging. It is important to know what you expect from your replay buffer to choose the right data structure.\n",
        "\n",
        "Common mistake: we need a fixed sized memory, that works like a FIFO structure, so let's pick a deque. That sounds fair, deques (in Python) have a fixed maximum size and constant time insertion at the beginning and the end. BUT they also have $O(n)$ access time which means that for large replay buffers, sampling a minibatch may take forever.\n",
        "\n",
        "Here, what we really need is a fixed-size FIFO, with $O(1)$ insertion at the end and $O(1)$ access.\n",
        "\n",
        "This should motivate the choices made in the replay buffer class above.\n",
        "</div>"
      ]
    },
    {
      "cell_type": "markdown",
      "metadata": {
        "id": "gfCF9qU_-gs2"
      },
      "source": [
        "# <a id=sec4></a>A deep Q-network\n",
        "\n",
        "The term Deep Q-Network was coined by the (now historical) paper **[Playing Atari with Deep Reinforcement Learning](https://arxiv.org/abs/1312.5602)** by Mnih et al. (2013) that put forward the main ideas we develop here. All those were later popularized by DeepMind's paper in Nature **[Human-level control through deep reinforcement learning](https://deepmind.com/research/publications/human-level-control-through-deep-reinforcement-learning)** by Mnih et al. (2015).\n",
        "\n",
        "Let's design a (deep) neural network that will serve as a function approximator for $Q(s,a;\\theta)$. \n",
        "\n",
        "<img src=\"img/dqlas.png\" height=\"15%\" width=\"15%\"></img>\n",
        "\n",
        "Note that since we're going to have to compute $\\max_a Q(s,a)$ it is preferable to avoid running as many passes through the network as there are actions. Therefore, instead of the network structure above, we will prefer to use the one below.\n",
        "\n",
        "<img src=\"img/dqls.png\" height=\"30%\" width=\"30%\"></img>"
      ]
    },
    {
      "cell_type": "markdown",
      "metadata": {
        "id": "jKc_zy-j-gs2"
      },
      "source": [
        "<div class=\"alert alert-warning\">\n",
        "    \n",
        "**Exercise:**  \n",
        "Declare a neural network for our $Q$ function. For the CartPole task, you can use a simple network with 2 hidden layers and 16 neurons on each layer. For the SwingUp task, go up to 50 neurons per layer. For Pong and the other environments... well wait a minute, we'll get to it later.\n",
        "</div>"
      ]
    },
    {
      "cell_type": "code",
      "execution_count": null,
      "metadata": {
        "id": "fhyAc_u--gs2"
      },
      "outputs": [],
      "source": [
        "# %load solutions/RL5_exercise2.py\n",
        "### WRITE YOUR CODE HERE\n",
        "# If you get stuck, uncomment the line above to load a correction in this cell (then you can execute this code)."
      ]
    },
    {
      "cell_type": "markdown",
      "metadata": {
        "id": "mWa8e-f8-gs2"
      },
      "source": [
        "We're almost there. Now you can implement the algorithm that:\n",
        "- takes $\\epsilon$-greedy actions with respect to $Q$\n",
        "- stores samples in the replay buffer\n",
        "- at each interaction step with the environment, draws a mini-batch, computes the target values for each $(s,a)$ and takes a gradient step.\n",
        "- repeats"
      ]
    },
    {
      "cell_type": "markdown",
      "metadata": {
        "id": "awf--pNY-gs2"
      },
      "source": [
        "<div class=\"alert alert-warning\">\n",
        "    \n",
        "**Exercise:**  \n",
        "Write this algorithm's pseudo-code, then proceed with your implementation, using the network and replay buffer you defined in the previous cells.\n",
        "</div>\n",
        "\n",
        "You can take inspiration from the algorithm on page 5 of **[Playing Atari with Deep Reinforcement Learning](https://arxiv.org/abs/1312.5602)**."
      ]
    },
    {
      "cell_type": "markdown",
      "metadata": {
        "id": "3KsEX_Db-gs2"
      },
      "source": [
        "<div class=\"alert alert-danger\">\n",
        "    <a href=\"#DQNpseudocode\" data-toggle=\"collapse\"><b>Answer:</b></a><br>\n",
        "<div id=\"DQNpseudocode\" class=\"collapse\">\n",
        "\n",
        "         state = init()\n",
        "         loop:\n",
        "            action = greedy_action(DQN) or random_action()\n",
        "            new_state, reward = step(state, action)\n",
        "            replay_memory.add(state, action, reward, new_state)\n",
        "            minibatch = replay_memory.sample(minibatch_size)\n",
        "            X_train = Y_train = []\n",
        "            for (s,a,r,s') in minibatch:\n",
        "                Q  = DQN.predict(s)\n",
        "                Q' = DQN.predict(s')\n",
        "                if non-terminal(s'): \n",
        "                    update = r + gamma * max(Q')    \n",
        "                else:  \n",
        "                    update = r\n",
        "                Q[a] = update\n",
        "                X_train.add(s)\n",
        "                Y_train.add(Q)\n",
        "            DQN.train_one_step(X_train,Y_train)\n",
        "            state = new_state\n",
        "</div>\n",
        "</div>"
      ]
    },
    {
      "cell_type": "markdown",
      "metadata": {
        "id": "tDzqOmgL-gs2"
      },
      "source": [
        "Now we can proceed with the implementation. This series of exercises break it down into small steps.\n",
        "\n",
        "<div class=\"alert alert-warning\">\n",
        "    \n",
        "**Exercise:**  \n",
        "It will actually be useful to have separate torch.Tensor for the each element type in the sampled minibatch.  \n",
        "That is one Tensor for a minibatch of states, another for actions, etc.\n",
        "Let's redefine the sample function of our replay buffer class to that end.\n",
        "</div>"
      ]
    },
    {
      "cell_type": "code",
      "execution_count": null,
      "metadata": {
        "id": "KgWHrj3n-gs2"
      },
      "outputs": [],
      "source": [
        "# %load solutions/RL5_exercise3.py\n",
        "### WRITE YOUR CODE HERE\n",
        "# If you get stuck, uncomment the line above to load a correction in this cell (then you can execute this code)."
      ]
    },
    {
      "cell_type": "markdown",
      "metadata": {
        "id": "l1WP6G4p-gs3"
      },
      "source": [
        "<div class=\"alert alert-warning\">\n",
        "    \n",
        "**Exercise:**  \n",
        "Define a utility function that computes the greedy action from a DQN and a batch of states.\n",
        "</div>"
      ]
    },
    {
      "cell_type": "code",
      "execution_count": null,
      "metadata": {
        "id": "0Ftsg7vT-gs3"
      },
      "outputs": [],
      "source": [
        "# %load solutions/RL5_exercise4.py\n",
        "### WRITE YOUR CODE HERE\n",
        "# If you get stuck, uncomment the line above to load a correction in this cell (then you can execute this code)."
      ]
    },
    {
      "cell_type": "markdown",
      "metadata": {
        "id": "IMr3MdK3-gs3"
      },
      "source": [
        "<div class=\"alert alert-warning\">\n",
        "    \n",
        "**Exercise:**  \n",
        "Write a class that keeps a replay buffer as internal attribute and implements the pseudo-code you wrote earlier.  \n",
        "Here are a few tips:\n",
        "- To ensure exploration, take a constant $\\epsilon_{max}$ value during $\\tau_{delay}$ time steps, then substract $\\epsilon_{step}$ from $\\epsilon$ at every time step until you reach time $\\tau_{period}$.\n",
        "- A common optimizer (instead of plain SGD) is RMSprop.\n",
        "- Assume the interaction with the environment will be episodic. After each training episode store the episode's cumulated return for monitoring.\n",
        "\n",
        "Write your class but don't run this code just yet!\n",
        "</div>"
      ]
    },
    {
      "cell_type": "code",
      "execution_count": null,
      "metadata": {
        "id": "LPIuRZLT-gs3"
      },
      "outputs": [],
      "source": [
        "# %load solutions/RL5_exercise5.py\n",
        "### WRITE YOUR CODE HERE\n",
        "# If you get stuck, uncomment the line above to load a correction in this cell (then you can execute this code)."
      ]
    },
    {
      "cell_type": "markdown",
      "metadata": {
        "id": "CE1lZ-Hz-gs4"
      },
      "source": [
        "<div class=\"alert alert-warning\">\n",
        "    \n",
        "**Exercise:**  \n",
        "Train for 200 episodes on CartPole, with a learning rate of $0.001$, abatch size of $20$, $\\gamma=0.95$ and a replay buffer of maximum $1000000$ samples. Take $\\epsilon_{max}=1$, $\\epsilon_{min=0.01}$, $\\tau_{delay}=20$ and $\\tau_{period}=1000$.\n",
        "</div>"
      ]
    },
    {
      "cell_type": "code",
      "execution_count": null,
      "metadata": {
        "id": "P_NFcTK7-gs4"
      },
      "outputs": [],
      "source": [
        "# %load solutions/RL5_exercise6.py\n",
        "### WRITE YOUR CODE HERE\n",
        "# If you get stuck, uncomment the line above to load a correction in this cell (then you can execute this code)."
      ]
    },
    {
      "cell_type": "markdown",
      "metadata": {
        "id": "9iPviXoB-gs4"
      },
      "source": [
        "# <a id=sec5></a>Making DQN more efficient"
      ]
    },
    {
      "cell_type": "markdown",
      "metadata": {
        "id": "9cCM4pTU-gs5"
      },
      "source": [
        "## <a id=sec5.1></a>Changing the optimizer\n",
        "\n",
        "The question of which optimizer to choose is quite open in RL. Most common choices are RMSprop or Adam (with, sometimes, carefully chosen hyperparameters). For the example of CartPole, it seems Adam with default parameters works better, but that's not a general rule."
      ]
    },
    {
      "cell_type": "markdown",
      "metadata": {
        "id": "vdNwl60e-gs5"
      },
      "source": [
        "## <a id=sec5.2></a>Several gradient steps\n",
        "\n",
        "Recall that within an iteration of Value Iteration, one aims at minimizing the $L_n(\\theta)$ (before moving on to the next iteration). Why take a single gradient step on this loss when a new sample is collected? Taking several gradient steps can greatly accelerate the convergence in terms of number of collected samples. That's what is commonly called *sample efficiency*."
      ]
    },
    {
      "cell_type": "markdown",
      "metadata": {
        "id": "7aNdpQeU-gs5"
      },
      "source": [
        "## <a id=sec5.3></a>Target network\n",
        "\n",
        "It appears the code above will (probably) slowly converge to $Q^*$ but this convergence might be unstable and noisy. This can be greatly improved by taking several gradient steps on a given loss function $L_n$ instead of changing the loss function after each sample. This idea is similar to the one above. And is the same as that of delayed updates that we introduced in the class on temporal difference learning. \n",
        "\n",
        "In practice, this is achieved by the introduction of a *target network* whose parameters are noted $\\theta^-$. This idea for DQN was introduced in the **[Human-level control through deep reinforcement learning](https://deepmind.com/research/publications/human-level-control-through-deep-reinforcement-learning)** paper. At any time step, the loss becomes:\n",
        "$$L(\\theta) = \\mathbb{E}_{s,a,r,s'} \\left[ \\left( r + \\gamma \\max_{a'} Q(s',a',\\theta^-) - Q(s,a;\\theta) \\right) ^2 \\right],$$\n",
        "and the target network parameters $\\theta^-$ are only updated with the Q-network parameters $\\theta_n$ every $C$ steps and are held fixed between individual updates.\n",
        "\n",
        "This process of accumulating several gradient steps into $\\theta_n$ before updating $\\theta^-$ draws our algorithm closer to a Value Iteration scheme (or a Fitted Q-Iteration scheme for that matter).\n",
        "\n",
        "Note that more recent approaches smooth out this accumulation process by defining soft updates of the form:\n",
        "$$\\theta^- \\leftarrow \\beta \\theta^- + (1-\\beta) \\theta_n.$$"
      ]
    },
    {
      "cell_type": "markdown",
      "metadata": {
        "id": "DWXUBrsT-gs6"
      },
      "source": [
        "## <a id=sec5.4></a>Error clipping\n",
        "\n",
        "Another common pratice to stabilize learning is to clip the value of the loss' gradient between $-1$ and $1$. This is not such an uncommon trick, it actually amounts to using an L2 loss for values of the loss between $-1$ and $1$ and an L1 loss outside of this domain. This is also know as the [Huber Loss](https://en.wikipedia.org/wiki/Huber_loss) or the [smooth L1 loss](https://pytorch.org/docs/stable/nn.html#smoothl1loss)."
      ]
    },
    {
      "cell_type": "markdown",
      "metadata": {
        "id": "YnwzI3J_-gs6"
      },
      "source": [
        "<div class=\"alert alert-warning\">\n",
        "    \n",
        "**Exercise:**  \n",
        "Modify you code from the previous exercises to include a target network (with $C$ in the order of $100$), a fixed number of gradient steps per acquired sample, and the clipping of the error term. You can also use Adam for improved efficiency.\n",
        "</div>"
      ]
    },
    {
      "cell_type": "code",
      "execution_count": null,
      "metadata": {
        "id": "7d9i8Yts-gs6"
      },
      "outputs": [],
      "source": [
        "# %load solutions/RL5_exercise7.py\n",
        "### WRITE YOUR CODE HERE\n",
        "# If you get stuck, uncomment the line above to load a correction in this cell (then you can execute this code).\n"
      ]
    },
    {
      "cell_type": "markdown",
      "metadata": {
        "id": "jLbtTNoM-gs6"
      },
      "source": [
        "<div class=\"alert alert-warning\">\n",
        "    \n",
        "**Exercise:**  \n",
        "Run your code to learn an efficient policy for CartPole. Don't forget to reset the network before you start learning.\n",
        "</div>"
      ]
    },
    {
      "cell_type": "code",
      "execution_count": null,
      "metadata": {
        "id": "Gc3LL04u-gs6"
      },
      "outputs": [],
      "source": [
        "# %load solutions/RL5_exercise8.py\n",
        "### WRITE YOUR CODE HERE\n",
        "# If you get stuck, uncomment the line above to load a correction in this cell (then you can execute this code)."
      ]
    },
    {
      "cell_type": "markdown",
      "metadata": {
        "id": "pS2ME0LD-gs7"
      },
      "source": [
        "# <a id=\"sec6\"></a> Metrics\n",
        "\n",
        "Let's take a step back to reflect about what we really measure in the experiment above. We have counted the number of steps per training episode. But during these episodes, the applied policy was $\\epsilon$-greedy, not greedy. So this is not an objective measure of performance.\n",
        "\n",
        "On the other hand, what is really being optimized here is the average sum of discounted rewards.\n",
        "\n",
        "<div class=\"alert alert-warning\">\n",
        "    \n",
        "**Exercise:**  \n",
        "Enhance your previous code with the monitoring, after each episode, of:\n",
        "- the number of steps of the training episode\n",
        "- a Monte Carlo estimate of the total sum of rewards from the (distribution of) starting state,\n",
        "- a Monte Carlo estimate of the sum of discounted rewards from the (distribution of) starting state,\n",
        "- an average, over possible starting states $s_0$ of the current $\\max_a Q(s_0,a)$.\n",
        "</div>"
      ]
    },
    {
      "cell_type": "code",
      "execution_count": null,
      "metadata": {
        "id": "Y1l3NKpF-gs7"
      },
      "outputs": [],
      "source": [
        "# %load solutions/RL5_exercise9.py\n",
        "### WRITE YOUR CODE HERE\n",
        "# If you get stuck, uncomment the line above to load a correction in this cell (then you can execute this code)."
      ]
    },
    {
      "cell_type": "markdown",
      "metadata": {
        "id": "CZEueeG1-gs7"
      },
      "source": [
        "<div class=\"alert alert-warning\">\n",
        "    \n",
        "**Exercise:**  \n",
        "Use this monitoring to plot these values versus the number of episodes, after training.\n",
        "</div>"
      ]
    },
    {
      "cell_type": "code",
      "execution_count": null,
      "metadata": {
        "id": "xzqpiwJ0-gs7"
      },
      "outputs": [],
      "source": [
        "# %load solutions/RL5_exercise10.py\n",
        "### WRITE YOUR CODE HERE\n",
        "# If you get stuck, uncomment the line above to load a correction in this cell (then you can execute this code)."
      ]
    },
    {
      "cell_type": "markdown",
      "metadata": {
        "id": "8RE4Ghqt-gs8"
      },
      "source": [
        "Remarks on CartPole:\n",
        "- Have you noted that Q overestimates the true value of the optimal policy? More on this in [this paper](https://papers.nips.cc/paper/3964-double-q-learning) if you are interested.\n",
        "- Have you noted that the greedy policy is optimal much sooner than the $Q$ function?\n",
        "- Have you remarked that the greedy policy performs well much sooner than the agent's policy (which is $\\epsilon$-greedy)?\n",
        "- Can you anticipate the importance of well tuned exploration, for instance if the state space is much larger, or if parts of it are very hard to reach?\n",
        "- Can you anticipate the effect of taking a larger $\\gamma$?"
      ]
    },
    {
      "cell_type": "markdown",
      "metadata": {
        "id": "cFchzM3D-gs8"
      },
      "source": [
        "<div class=\"alert alert-warning\">\n",
        "    \n",
        "**Exercise:**  \n",
        "Train on SwingUp.\n",
        "</div>"
      ]
    },
    {
      "cell_type": "code",
      "execution_count": null,
      "metadata": {
        "id": "sJgUc46O-gs8"
      },
      "outputs": [],
      "source": [
        "# %load solutions/RL5_exercise11.py\n",
        "### WRITE YOUR CODE HERE\n",
        "# If you get stuck, uncomment the line above to load a correction in this cell (then you can execute this code)."
      ]
    },
    {
      "cell_type": "markdown",
      "metadata": {
        "id": "P13bNhX2-gs8"
      },
      "source": [
        "Remarks on SwingUp:\n",
        "- Did your DQN learn to avoid the -10 penalty instead of swinging up? The exploration question becomes a crucial issue, doesn't it?"
      ]
    },
    {
      "cell_type": "markdown",
      "metadata": {
        "id": "bSK3G-Ud-gs9"
      },
      "source": [
        "# <a id=\"sec7\"></a>DQN on image-based tasks\n",
        "\n",
        "Now it's time to turn towards Pong. As you noted earlier, the frame information in Pong is not sufficient to define an MDP, but stacking several frames together allows to recover the Markov property.\n",
        "\n",
        "We could wish to modify the previous replay buffer so that frames are stored only once (for memory efficiency). Then this new replay buffer would still need to return stacks of 4 frames when `sample()` is called.\n",
        "\n",
        "Fortunately, there's a simpler way to do that.\n",
        "We can use a wrapper (provided by Gym in this case) so that calling env.step(a) returns a stack of 4 frames.\n",
        "This wrapper actually only stores each frame once which optimizes memory efficiency. This way, we can keep on using our previous replay buffer class."
      ]
    },
    {
      "cell_type": "code",
      "execution_count": null,
      "metadata": {
        "id": "_MPWdYkY-gs9"
      },
      "outputs": [],
      "source": [
        "from gym.wrappers import FrameStack\n",
        "pong = FrameStack(pong, 4)"
      ]
    },
    {
      "cell_type": "code",
      "execution_count": null,
      "metadata": {
        "id": "bIbQisDK-gs9"
      },
      "outputs": [],
      "source": [
        "x = pong.reset()\n",
        "print(torch.Tensor(x).shape)"
      ]
    },
    {
      "cell_type": "markdown",
      "metadata": {
        "id": "duf0-Qkr-gs9"
      },
      "source": [
        "The two DQN papers ([Playing Atari with Deep Reinforcement Learning](https://arxiv.org/abs/1312.5602) and [Human-level control through deep reinforcement learning](https://deepmind.com/research/publications/human-level-control-through-deep-reinforcement-learning)) actually introduce two different neural network architectures.\n",
        "\n",
        "The 2013 paper uses this architecture:\n",
        "- input: $84\\times 84\\times 4$ image (the last 4 frames)\n",
        "- layer 1: Convolutions with 16 filters of size $8\\times 8$ and stride 4. The activation is a ReLU function.\n",
        "- layer 2: Convolutions with 32 filters of size $4\\times 4$ and stride 2. The activation is a ReLU function.\n",
        "- layer 3: Fully connected with 256 ReLU units\n",
        "- layer 4 (output): Fully connected with 2 linear units (one for each action's value)\n",
        "\n",
        "The 2015 paper \n",
        "- input: $84\\times 84\\times 4$ image (the last 4 frames)\n",
        "- layer 1: Convolutions with 32 filters of size $8\\times 8$ and stride 4. The activation is a ReLU function.\n",
        "- layer 2: Convolutions with 64 filters of size $4\\times 4$ and stride 2. The activation is a ReLU function.\n",
        "- layer 3: Convolutions with 64 filters of size $3\\times 3$ and stride 1. The activation is a ReLU function.\n",
        "- layer 4: Fully connected with 512 ReLU units\n",
        "- layer 5 (output): Fully connected with 2 linear units (one for each action's value)\n",
        "\n",
        "Also, it is a good practice to pre-fill the replay buffer with randomly sampled experience. The 2015 paper runs a random policy for 50000 steps to feed the replay buffer before training."
      ]
    },
    {
      "cell_type": "markdown",
      "metadata": {
        "id": "QJRgt7c2-gs9"
      },
      "source": [
        "<div class=\"alert alert-warning\">\n",
        "    \n",
        "**Exercise:** Create the corresponding neural network and adapt your optimization code from the previous exercice to train on Pong (you can take $C$ much larger, in the order of $10000$).\n",
        "</div>\n",
        "\n",
        "Caveat: unless you have a good GPU and a fair amount of time ahead of you (several hours or more), it is recommended to run this computation for a limited number of episodes, on a cloud computing service (or on a dediated machine)."
      ]
    },
    {
      "cell_type": "code",
      "execution_count": null,
      "metadata": {
        "id": "-qd6fZaO-gs9"
      },
      "outputs": [],
      "source": [
        "# %load solutions/RL5_exercise12.py\n",
        "### WRITE YOUR CODE HERE\n",
        "# If you get stuck, uncomment the line above to load a correction in this cell (then you can execute this code)."
      ]
    },
    {
      "cell_type": "markdown",
      "metadata": {
        "id": "pO1HMt_1-gs-"
      },
      "source": [
        "To give you an idea of the behavior of a trained agent, you can check the following videos."
      ]
    },
    {
      "cell_type": "code",
      "execution_count": null,
      "metadata": {
        "id": "ThTKMSby-gs-"
      },
      "outputs": [],
      "source": [
        "from IPython.display import YouTubeVideo\n",
        "YouTubeVideo(\"p88R2_3yWPA\")"
      ]
    },
    {
      "cell_type": "code",
      "execution_count": null,
      "metadata": {
        "id": "0DTOdWU8-gs-"
      },
      "outputs": [],
      "source": [
        "YouTubeVideo(\"TmPfTpjtdgg\")"
      ]
    },
    {
      "cell_type": "markdown",
      "metadata": {
        "id": "CHlxX2DC-gs-"
      },
      "source": [
        "# <a id=\"sec7\"></a>Going further\n",
        "\n",
        "A lot of contributions have built on the initial success of DQN. Among those, some are combined and discussed in the **[Rainbow: Combining Improvements in Deep Reinforcement Learning](https://arxiv.org/abs/1710.02298)** paper. We will simply summarize their key ideas here, by decreasing order of importance (according to the paper).\n",
        "\n",
        "- N-step returns. Use samples that accumulate several returns rather than the 1-step return of TD(0).\n",
        "- [Prioritized experience replay](https://arxiv.org/abs/1511.05952). Inspired by the model-based [Prioritized Sweeping](https://link.springer.com/article/10.1007/BF00993104) approach, bias the distribution used to sample mini-batches in order to present high residual samples to the optimizer. Prioritized Sweeping is designed to accelerate the convergence in $L_\\infty$ norm for tabular representations.\n",
        "- [Distributional value functions](https://arxiv.org/abs/1707.06887). Instead of estimating $\\mathbb{E}(\\sum_t \\gamma^t r_t)$, estimate the distribution of $\\sum_t \\gamma^r r_t$ and iterate on it.\n",
        "- [NoisyNet](https://arxiv.org/abs/1706.10295). Instead of an $\\epsilon$-greedy exploration strategy, introduce noise in the network's parameters to drive the exploration.\n",
        "- [Dueling architecture](https://arxiv.org/abs/1511.06581). The neural network's architecture splits $Q$ into the estimation of a value $V(s)$ and an advantage $A(s,a)$ with shared first layers.\n",
        "- [Double Q-learning](https://arxiv.org/abs/1509.06461). Q-learning is prone to over-estimation of the true optimal Q function (especially in high variance environments). Double Q-learning aims at compensating this weakness by introducing an under-estimation mechanism based on a second Q function.\n",
        "\n",
        "Beyond these improvements, new work is published each year that leads to a better understanding of the interplay between Deep Learning and RL."
      ]
    },
    {
      "cell_type": "markdown",
      "metadata": {
        "id": "w1GymW9U-gs-"
      },
      "source": [
        "# <a id=\"challenge\"></a>Challenge\n",
        "\n",
        "In this challenge, we provide two new environments, on top of the SwingUp problem introduced before. All environments feature different difficulties. It is recommended that you focus on a single environment."
      ]
    },
    {
      "cell_type": "markdown",
      "metadata": {
        "id": "0UIBl136-gs-"
      },
      "source": [
        "## <a id=\"bicycle\"></a>Bicycle\n",
        "\n",
        "This environment was originally introduced in the 1998 article on **[Learning to Drive a Bicycle Using Reinforcement Learning and Shaping](#https://www.researchgate.net/publication/221346431_Learning_to_Drive_a_Bicycle_Using_Reinforcement_Learning_and_Shaping)** by J. Randløv and P. Alstrøm. Notably, it was also one of the key benchmarks for **[Least Squares Policy Iteration](http://www.jmlr.org/papers/volume4/lagoudakis03a/lagoudakis03a.pdf)** by Lagoudakis and Parr in 2003.\n",
        "\n",
        "The environment provided here uses the exact same simulator but defines more rigorously the state variables. It is not a gym environment and has no `render` method, but it still provides the `step` and `reset` methods.\n",
        "\n",
        "In short, in this environment you try to ride a bicyle from an initial location $(x,y)=(0,0)$ to a goal that is located one kilometer further $(x_{goal},y_{goal})=(1000,0)$.\n",
        "\n",
        "The bicycle state variables are:\n",
        "- $\\theta$ the angle of the handlebar\n",
        "- $\\dot{\\theta}$\n",
        "- $\\omega$ the tilt angle between the $z$-axis and the bicycle+cyclist center of mass\n",
        "- $\\dot{\\omega}$\n",
        "- $x_b,y_b$ the position of the bicyle's back tire\n",
        "- $x_f,y_f$ the position of the bicyle's front tire\n",
        "- $\\psi'_{goal}$ a not-so-useful variable kept for historical reasons, that is roughly proprotional to $\\psi_{goal}$\n",
        "- $d_{goal}$ the distance between the front tire and the goal\n",
        "- $\\psi$ the bicycle's heading angle (angle between the bicycle and the y-axis)\n",
        "- $\\psi_{goal}$ the angle between the bicycle back wheel - front wheel axis, and the back wheel - goal axis\n",
        "\n",
        "The agent starts at $(x_b,y_b)=(0,0)$ with a random heading in $[-\\pi,\\pi]$, and random small values for $\\theta$, $\\dot{\\theta}$, $\\omega$ and $\\dot{\\omega}$ around the unstable equilibrium point."
      ]
    },
    {
      "cell_type": "code",
      "execution_count": null,
      "metadata": {
        "id": "wGXghz20-gs-"
      },
      "outputs": [],
      "source": [
        "from environments.bicycle import Bicycle\n",
        "bike = Bicycle()\n",
        "x = bike.reset()\n",
        "print(x)"
      ]
    },
    {
      "cell_type": "markdown",
      "metadata": {
        "id": "YaS9AJIX-gs_"
      },
      "source": [
        "The cyclist moves at a constant speed and his actions to control the bicycle consist in applying a torque to the handlebar or shifting his weight left or right. The action space is discrete and consists of 5 actions. What you pass to the `step` method is the action index.\n",
        "\n",
        "The episode ends when the tilt angle exceeds $\\frac{\\pi}{15}$.\n",
        "\n",
        "To encourage the bike staying up and guiding it towards the goal, the reward model uses *reward shaping*. It is written:\n",
        "$$r(s,a,s') = \\omega^2 - \\omega'^2 + k\\cdot\\left( d_{goal} - d'_{goal} \\right)$$"
      ]
    },
    {
      "cell_type": "code",
      "execution_count": null,
      "metadata": {
        "scrolled": true,
        "id": "jhFJR2ch-gs_"
      },
      "outputs": [],
      "source": [
        "%matplotlib inline\n",
        "import matplotlib.pyplot as plt\n",
        "\n",
        "print(bike.action_set)\n",
        "X = []\n",
        "x = bike.reset()\n",
        "X.append(x)\n",
        "for i in range(1000):\n",
        "    y, r, d, _ = bike.step(0)\n",
        "    x = y\n",
        "    X.append(x)\n",
        "    if d:\n",
        "        break\n",
        "\n",
        "print(\"trajectory length\", len(X))\n",
        "X = np.array(X)\n",
        "plt.plot(X[:,4],X[:,5]);"
      ]
    },
    {
      "cell_type": "markdown",
      "metadata": {
        "id": "nBPV97Xj-gs_"
      },
      "source": [
        "## <a id=\"sti\"></a>Structured Treatment Interruptions\n",
        "\n",
        "This environment implements the simulator defined in **[Dynamic Multidrug Therapies for HIV: Optimal and STI Control Approaches](https://www.aimspress.com/fileOther/PDF/MBE/1551-0018_2004_2_223.pdf)** by B. M. Adams et al. (2004). It was notably used in **[Clinical data based optimal STI strategies for HIV: a reinforcement learning approach](https://ieeexplore.ieee.org/document/4177178)** by D. Ernst et al. (2006).\n",
        "\n",
        "This environment simulates the immune system of an HIV-infected patient. It is not a gym environment and has no `render` method, but it still provides the `step` and `reset` methods. \n",
        "\n",
        "In short, HIV can infect two types of cells (type 1 and type 2 below) and replicate itself, which increases the virus load in the blood stream. The immune system fights off the virus by increasing the concentration of macrophages (effector cells below).\n",
        "\n",
        "The patient state variables are:\n",
        "- $T_1$ healthy type 1 cells concentration (cells per mL)\n",
        "- $T_1^*$ infected type 1 cells concentration (cells per mL)\n",
        "- $T_2$ healthy type 2 cells concentration (cells per mL)\n",
        "- $T_2^*$ infected type 2 cells concentration (cells per mL)\n",
        "- $V$ free virus (copies per mL)\n",
        "- $E$ immune effector cells concentration (cells per mL)\n",
        "\n",
        "Once infected, if no treatment is applied, the patient naturally evolve to one of two steady states: either the immune system controls the infection and the patient is healthy, or the infection dominates and the patient is unhealthy.\n",
        "\n",
        "By default `reset` deterministically puts the patient in the infected unhealthy state.\n",
        "\n",
        "    The transition() function allows to simulate continuous time dynamics and control.\n",
        "    The step() function is tailored for the evaluation of Structured Treatment Interruptions."
      ]
    },
    {
      "cell_type": "code",
      "execution_count": null,
      "metadata": {
        "id": "FzgO8uFN-gs_"
      },
      "outputs": [],
      "source": [
        "from environments.hiv_patient import HIVPatient\n",
        "patient = HIVPatient()\n",
        "print(\"Uninfected patient:\", patient.reset(\"uninfected\"))\n",
        "print(\"Unhealthy patient:\", patient.reset()) # actually equivalent to patient.reset(\"unhealthy\")\n",
        "print(\"Healthy patient:\", patient.reset(mode=\"healthy\"))"
      ]
    },
    {
      "cell_type": "markdown",
      "metadata": {
        "id": "otMjVgCP-gs_"
      },
      "source": [
        "The `step` method simulates the evolution of the patient over a time step of $5$ days. The system is deterministic. For example, if we want to simulate a patient with a 25% immunity loss, with no treatment, over 400 days, we could do:"
      ]
    },
    {
      "cell_type": "code",
      "execution_count": null,
      "metadata": {
        "id": "lAk4IBS4-gs_"
      },
      "outputs": [],
      "source": [
        "%matplotlib inline\n",
        "import matplotlib.pyplot as plt\n",
        "from environments.hiv_patient import HIVPatient\n",
        "\n",
        "patient = HIVPatient()\n",
        "s = patient.reset(mode=\"healthy\")\n",
        "s[5] *= .75\n",
        "patient.E *= .75\n",
        "print(patient.E)\n",
        "dur = 80 # 400/5\n",
        "#nb_steps = int(dur//1e-3)\n",
        "states = [s]\n",
        "for i in range(dur):\n",
        "    s, r, d, _ = patient.step(0)\n",
        "    states.append(s)\n",
        "    \n",
        "fig, axs = plt.subplots(2, 3, figsize=(15, 15))\n",
        "npst = np.array(states)\n",
        "axs[0,0].plot(npst[:,0])\n",
        "axs[0,0].set_title(\"T1\")\n",
        "axs[0,1].plot(npst[:,1])\n",
        "axs[0,1].set_title(\"T1*\")\n",
        "axs[0,2].plot(npst[:,2])\n",
        "axs[0,2].set_title(\"T2\")\n",
        "axs[1,0].plot(npst[:,3])\n",
        "axs[1,0].set_title(\"T2*\")\n",
        "axs[1,1].plot(npst[:,4])\n",
        "axs[1,1].set_title(\"V\")\n",
        "axs[1,2].plot(npst[:,5])\n",
        "axs[1,2].set_title(\"E\");"
      ]
    },
    {
      "cell_type": "markdown",
      "metadata": {
        "id": "_eSkfozq-gs_"
      },
      "source": [
        "Two types of drugs can be given to the patient, that differ in the way they affect the viral load. The problem we look at consists in giving or not a certain drug at every step, to allow for **structured treatment interruptions** (STI). Such interruptions have double goal: train the immune system to react by itself and provide the patient with a better quality of life.\n",
        "\n",
        "The action space is discrete and consists of 5 actions. What you pass to the `step` method is the action index.\n",
        "\n",
        "The patient's death over the course of treatment is not explicitly modelled (but the viral load can reach very high values). So this simulator does not have a termination condition (`step` never returns `done=True`). The reward model discourages giving drugs, aims at a low viral load and a high immunity:\n",
        "$$r(s,a,s') = -k_V \\cdot V + k_E \\cdot E -k_1 R_2 - k_2 \\cdot R_2$$\n",
        "where $R_1$ and $R_2$ are the amounts of prescribed drugs 1 and 2 respectively."
      ]
    },
    {
      "cell_type": "code",
      "execution_count": null,
      "metadata": {
        "id": "tVXcQkcL-gs_"
      },
      "outputs": [],
      "source": [
        "print(patient.action_set)"
      ]
    },
    {
      "cell_type": "markdown",
      "metadata": {
        "id": "KWt-8G7E-gtA"
      },
      "source": [
        "## <a id=\"turn\"></a>Your turn to play"
      ]
    },
    {
      "cell_type": "markdown",
      "metadata": {
        "id": "dGlqnbvO-gtA"
      },
      "source": [
        "<div class=\"alert alert-warning\">\n",
        "    \n",
        "**Exercise (open-ended):**  \n",
        "Your turn to play!  \n",
        "Can you solve SwingUp? Bicycle? STI?  \n",
        "Why are these problems more difficult than CartPole?  \n",
        "Be creative!\n",
        "</div>"
      ]
    },
    {
      "cell_type": "code",
      "execution_count": null,
      "metadata": {
        "id": "GdMG2BAs-gtA"
      },
      "outputs": [],
      "source": []
    }
  ],
  "metadata": {
    "kernelspec": {
      "display_name": "Python 3 (ipykernel)",
      "language": "python",
      "name": "python3"
    },
    "language_info": {
      "codemirror_mode": {
        "name": "ipython",
        "version": 3
      },
      "file_extension": ".py",
      "mimetype": "text/x-python",
      "name": "python",
      "nbconvert_exporter": "python",
      "pygments_lexer": "ipython3",
      "version": "3.8.10"
    },
    "toc": {
      "base_numbering": 1,
      "nav_menu": {},
      "number_sections": true,
      "sideBar": true,
      "skip_h1_title": false,
      "title_cell": "Table of Contents",
      "title_sidebar": "Contents",
      "toc_cell": false,
      "toc_position": {},
      "toc_section_display": true,
      "toc_window_display": true
    },
    "colab": {
      "provenance": [],
      "include_colab_link": true
    }
  },
  "nbformat": 4,
  "nbformat_minor": 0
}